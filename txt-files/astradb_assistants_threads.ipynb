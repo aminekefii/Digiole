{
  "nbformat": 4,
  "nbformat_minor": 0,
  "metadata": {
    "colab": {
      "provenance": [],
      "gpuType": "T4"
    },
    "kernelspec": {
      "name": "python3",
      "display_name": "Python 3"
    },
    "language_info": {
      "name": "python"
    }
  },
  "cells": [
    {
      "cell_type": "markdown",
      "source": [
        "Use of OpenAI's Assistants API for the creation of a more advanced chat completion assistant.\n",
        "\n",
        "For more information, check [OpenAI's documentation](https://platform.openai.com/docs/assistants/overview?context=with-streaming)."
      ],
      "metadata": {
        "id": "RhZPOQaFGBSB"
      }
    },
    {
      "cell_type": "code",
      "execution_count": null,
      "metadata": {
        "id": "Iq_WobFvZ2ej",
        "colab": {
          "base_uri": "https://localhost:8080/"
        },
        "outputId": "0108adf9-3a13-4928-a5e8-9239037bdf5b"
      },
      "outputs": [
        {
          "output_type": "stream",
          "name": "stdout",
          "text": [
            "Requirement already satisfied: openai in /usr/local/lib/python3.10/dist-packages (1.14.0)\n",
            "Requirement already satisfied: anyio<5,>=3.5.0 in /usr/local/lib/python3.10/dist-packages (from openai) (3.7.1)\n",
            "Requirement already satisfied: distro<2,>=1.7.0 in /usr/lib/python3/dist-packages (from openai) (1.7.0)\n",
            "Requirement already satisfied: httpx<1,>=0.23.0 in /usr/local/lib/python3.10/dist-packages (from openai) (0.27.0)\n",
            "Requirement already satisfied: pydantic<3,>=1.9.0 in /usr/local/lib/python3.10/dist-packages (from openai) (2.6.3)\n",
            "Requirement already satisfied: sniffio in /usr/local/lib/python3.10/dist-packages (from openai) (1.3.1)\n",
            "Requirement already satisfied: tqdm>4 in /usr/local/lib/python3.10/dist-packages (from openai) (4.66.2)\n",
            "Requirement already satisfied: typing-extensions<5,>=4.7 in /usr/local/lib/python3.10/dist-packages (from openai) (4.10.0)\n",
            "Requirement already satisfied: idna>=2.8 in /usr/local/lib/python3.10/dist-packages (from anyio<5,>=3.5.0->openai) (3.6)\n",
            "Requirement already satisfied: exceptiongroup in /usr/local/lib/python3.10/dist-packages (from anyio<5,>=3.5.0->openai) (1.2.0)\n",
            "Requirement already satisfied: certifi in /usr/local/lib/python3.10/dist-packages (from httpx<1,>=0.23.0->openai) (2024.2.2)\n",
            "Requirement already satisfied: httpcore==1.* in /usr/local/lib/python3.10/dist-packages (from httpx<1,>=0.23.0->openai) (1.0.4)\n",
            "Requirement already satisfied: h11<0.15,>=0.13 in /usr/local/lib/python3.10/dist-packages (from httpcore==1.*->httpx<1,>=0.23.0->openai) (0.14.0)\n",
            "Requirement already satisfied: annotated-types>=0.4.0 in /usr/local/lib/python3.10/dist-packages (from pydantic<3,>=1.9.0->openai) (0.6.0)\n",
            "Requirement already satisfied: pydantic-core==2.16.3 in /usr/local/lib/python3.10/dist-packages (from pydantic<3,>=1.9.0->openai) (2.16.3)\n",
            "Version: 1.14.0\n"
          ]
        }
      ],
      "source": [
        "!pip install --upgrade openai\n",
        "!pip show openai | grep Version"
      ]
    },
    {
      "cell_type": "code",
      "source": [
        "import json, time\n",
        "from openai import OpenAI\n",
        "from google.colab import userdata"
      ],
      "metadata": {
        "id": "T57mKVAMZ_KC"
      },
      "execution_count": null,
      "outputs": []
    },
    {
      "cell_type": "code",
      "source": [
        "def show_json(obj):\n",
        "    display(json.loads(obj.model_dump_json()))"
      ],
      "metadata": {
        "id": "rWoqNNJgaBqN"
      },
      "execution_count": null,
      "outputs": []
    },
    {
      "cell_type": "code",
      "source": [
        "client = OpenAI(\n",
        "    base_url=\"https://open-assistant-ai.astra.datastax.com/v1\",\n",
        "    #ideally a paid API key\n",
        "    api_key=userdata.get('OPENAI_API_KEY'),\n",
        "    default_headers={\n",
        "        \"astra-api-token\": userdata.get('assistant_api_db')\n",
        "        })\n",
        "\n",
        "assistant = client.beta.assistants.create(\n",
        "    name=\"Finance Assistant\",\n",
        "    #Apply prompt engineering to receive better results, <xml> tags and such\n",
        "    instructions=\"You are a sophisticated finance assistant. Your goal is to assist startup entrepeneurs with their finances, similar to an accountant's task. You will conduct intreviews in which you will ask the entrepeneurs for data about their finances, the goal of this interview is to fill in financial forms which you will retrieve from the entrepeneurs. Once you have asked the user to send a file of the form and you have interpreted it and filled it in, your last task will be to output the same form, only this time will be filled with the necessary information. You may also assist the entrepeneurs explaining the different terms and values that appear on said financial forms, and you may occasionally suggest to explain these terms to the entrepeneurs.\",\n",
        "    #ideally gpt-4-1106-preview or similar\n",
        "    model=\"gpt-3.5-turbo\",\n",
        ")\n",
        "show_json(assistant)"
      ],
      "metadata": {
        "id": "VIf8EdXKaDvU",
        "colab": {
          "base_uri": "https://localhost:8080/",
          "height": 329
        },
        "outputId": "6027b0c0-f885-46b6-d7ab-655a53bf7d3e"
      },
      "execution_count": null,
      "outputs": [
        {
          "output_type": "display_data",
          "data": {
            "text/plain": [
              "{'id': '37429366-e2be-11ee-ba31-96cf47d504ae',\n",
              " 'created_at': 1710501709,\n",
              " 'description': '',\n",
              " 'file_ids': [],\n",
              " 'instructions': \"You are a sophisticated finance assistant. Your goal is to assist startup entrepeneurs with their finances, similar to an accountant's task. You will conduct intreviews in which you will ask the entrepeneurs for data about their finances, the goal of this interview is to fill in financial forms which you will retrieve from the entrepeneurs. Once you have asked the user to send a file of the form and you have interpreted it and filled it in, your last task will be to output the same form, only this time will be filled with the necessary information. You may also assist the entrepeneurs explaining the different terms and values that appear on said financial forms, and you may occasionally suggest to explain these terms to the entrepeneurs.\",\n",
              " 'metadata': {},\n",
              " 'model': 'gpt-3.5-turbo',\n",
              " 'name': 'Finance Assistant',\n",
              " 'object': 'assistant',\n",
              " 'tools': []}"
            ]
          },
          "metadata": {}
        }
      ]
    },
    {
      "cell_type": "markdown",
      "source": [
        "Now we're going to make use of the most important feature of the Assistants API, \"Threads\", thanks to the threads our assistant will be able to maintain a state during the conversations, which won't require us to maintain the document retrieval, define the tools, or manage the state of the conversation each time the users send a new message."
      ],
      "metadata": {
        "id": "9_Xv2o_Dc9_s"
      }
    },
    {
      "cell_type": "code",
      "source": [
        "thread = client.beta.threads.create()\n",
        "show_json(thread)"
      ],
      "metadata": {
        "id": "P7cAzk6Tc5Qb",
        "colab": {
          "base_uri": "https://localhost:8080/",
          "height": 86
        },
        "outputId": "51912b0f-2ed5-4ba4-e31d-7ed440a0986e"
      },
      "execution_count": null,
      "outputs": [
        {
          "output_type": "display_data",
          "data": {
            "text/plain": [
              "{'id': '3761337a-e2be-11ee-988b-32dc6582fe5e',\n",
              " 'created_at': 1710501709,\n",
              " 'metadata': {},\n",
              " 'object': 'thread'}"
            ]
          },
          "metadata": {}
        }
      ]
    },
    {
      "cell_type": "code",
      "source": [
        "#link a new message to the thread created above for demo purposes\n",
        "message = client.beta.threads.messages.create(\n",
        "    thread_id=thread.id,\n",
        "    role=\"user\",\n",
        "    content=\"I need to fill in a capital information form. Could you help me?\",\n",
        ")\n",
        "show_json(message)"
      ],
      "metadata": {
        "id": "WWlH_ZGJdsHc",
        "colab": {
          "base_uri": "https://localhost:8080/",
          "height": 312
        },
        "outputId": "12399578-3ece-4475-9e33-5e01869c63dd"
      },
      "execution_count": null,
      "outputs": [
        {
          "output_type": "display_data",
          "data": {
            "text/plain": [
              "{'id': '37900e52-e2be-11ee-b4e3-d6d69b2eb7ad',\n",
              " 'assistant_id': 'TODO',\n",
              " 'completed_at': None,\n",
              " 'content': [{'text': {'annotations': [],\n",
              "    'value': 'I need to fill in a capital information form. Could you help me?'},\n",
              "   'type': 'text',\n",
              "   'image_file': None}],\n",
              " 'created_at': 1710501709,\n",
              " 'file_ids': [],\n",
              " 'incomplete_at': None,\n",
              " 'incomplete_details': None,\n",
              " 'metadata': {},\n",
              " 'object': 'thread.message',\n",
              " 'role': 'user',\n",
              " 'run_id': 'None',\n",
              " 'status': None,\n",
              " 'thread_id': '3761337a-e2be-11ee-988b-32dc6582fe5e'}"
            ]
          },
          "metadata": {}
        }
      ]
    },
    {
      "cell_type": "markdown",
      "source": [
        "Unlike the previous Chat Completions API, the Assistants API responds to the users with *Runs*, a run is created by assigning a Thread to an Assistant"
      ],
      "metadata": {
        "id": "RRvVV_RyHfyj"
      }
    },
    {
      "cell_type": "code",
      "source": [
        "run = client.beta.threads.runs.create(\n",
        "    thread_id=thread.id,\n",
        "    assistant_id=assistant.id, #'7a33ced2-e2b5-11ee-8854-32dc6582fe5e'\n",
        ")\n",
        "show_json(run)"
      ],
      "metadata": {
        "id": "j8Ohf2Cad4Kg",
        "colab": {
          "base_uri": "https://localhost:8080/",
          "height": 486
        },
        "outputId": "88fdf573-a5eb-4f31-fb6a-d93507615c3a"
      },
      "execution_count": null,
      "outputs": [
        {
          "output_type": "display_data",
          "data": {
            "text/plain": [
              "{'id': '37beef92-e2be-11ee-a4d6-d6d69b2eb7ad',\n",
              " 'assistant_id': '37429366-e2be-11ee-ba31-96cf47d504ae',\n",
              " 'cancelled_at': 0,\n",
              " 'completed_at': 0,\n",
              " 'created_at': 1710501710,\n",
              " 'expires_at': 0,\n",
              " 'failed_at': 0,\n",
              " 'file_ids': [],\n",
              " 'instructions': \"You are a sophisticated finance assistant. Your goal is to assist startup entrepeneurs with their finances, similar to an accountant's task. You will conduct intreviews in which you will ask the entrepeneurs for data about their finances, the goal of this interview is to fill in financial forms which you will retrieve from the entrepeneurs. Once you have asked the user to send a file of the form and you have interpreted it and filled it in, your last task will be to output the same form, only this time will be filled with the necessary information. You may also assist the entrepeneurs explaining the different terms and values that appear on said financial forms, and you may occasionally suggest to explain these terms to the entrepeneurs.\",\n",
              " 'last_error': None,\n",
              " 'metadata': {},\n",
              " 'model': 'gpt-3.5-turbo',\n",
              " 'object': 'thread.run',\n",
              " 'required_action': None,\n",
              " 'started_at': 0,\n",
              " 'status': 'generating',\n",
              " 'thread_id': '3761337a-e2be-11ee-988b-32dc6582fe5e',\n",
              " 'tools': [],\n",
              " 'usage': None}"
            ]
          },
          "metadata": {}
        }
      ]
    },
    {
      "cell_type": "code",
      "source": [
        "def wait_on_run(run, thread):\n",
        "    while run.status == \"queued\" or run.status == \"in_progress\" or run.status==\"generating\":\n",
        "        run = client.beta.threads.runs.retrieve(\n",
        "            thread_id=thread.id,\n",
        "            run_id=run.id,\n",
        "        )\n",
        "        time.sleep(0.5)\n",
        "    return run"
      ],
      "metadata": {
        "id": "tLnQCITJIWs9"
      },
      "execution_count": null,
      "outputs": []
    },
    {
      "cell_type": "code",
      "source": [
        "run = wait_on_run(run, thread)\n",
        "show_json(run)"
      ],
      "metadata": {
        "colab": {
          "base_uri": "https://localhost:8080/",
          "height": 486
        },
        "id": "VGEhQXwqIdvj",
        "outputId": "a1ff8b78-6cc7-4c70-857c-b8fc45194d2e"
      },
      "execution_count": null,
      "outputs": [
        {
          "output_type": "display_data",
          "data": {
            "text/plain": [
              "{'id': '37beef92-e2be-11ee-a4d6-d6d69b2eb7ad',\n",
              " 'assistant_id': '37429366-e2be-11ee-ba31-96cf47d504ae',\n",
              " 'cancelled_at': 0,\n",
              " 'completed_at': 0,\n",
              " 'created_at': 1710501710,\n",
              " 'expires_at': 0,\n",
              " 'failed_at': 0,\n",
              " 'file_ids': [],\n",
              " 'instructions': \"You are a sophisticated finance assistant. Your goal is to assist startup entrepeneurs with their finances, similar to an accountant's task. You will conduct intreviews in which you will ask the entrepeneurs for data about their finances, the goal of this interview is to fill in financial forms which you will retrieve from the entrepeneurs. Once you have asked the user to send a file of the form and you have interpreted it and filled it in, your last task will be to output the same form, only this time will be filled with the necessary information. You may also assist the entrepeneurs explaining the different terms and values that appear on said financial forms, and you may occasionally suggest to explain these terms to the entrepeneurs.\",\n",
              " 'last_error': None,\n",
              " 'metadata': {},\n",
              " 'model': 'gpt-3.5-turbo',\n",
              " 'object': 'run',\n",
              " 'required_action': None,\n",
              " 'started_at': 0,\n",
              " 'status': 'completed',\n",
              " 'thread_id': '3761337a-e2be-11ee-988b-32dc6582fe5e',\n",
              " 'tools': [],\n",
              " 'usage': None}"
            ]
          },
          "metadata": {}
        }
      ]
    },
    {
      "cell_type": "code",
      "source": [
        "messages = client.beta.threads.messages.list(thread_id=thread.id)\n",
        "show_json(messages)"
      ],
      "metadata": {
        "colab": {
          "base_uri": "https://localhost:8080/",
          "height": 711
        },
        "id": "IHuX14u-Ip5I",
        "outputId": "73a6f3db-90a5-45a5-e5b2-a3c728a8466f"
      },
      "execution_count": null,
      "outputs": [
        {
          "output_type": "display_data",
          "data": {
            "text/plain": [
              "{'data': [{'id': '37dfa318-e2be-11ee-a4d6-d6d69b2eb7ad',\n",
              "   'assistant_id': '37429366-e2be-11ee-ba31-96cf47d504ae',\n",
              "   'completed_at': None,\n",
              "   'content': [{'text': {'annotations': [],\n",
              "      'value': \"Of course, I'd be happy to help you fill out the capital information form. To get started, could you please send me the form so I can review it and gather the necessary information from you?\"},\n",
              "     'type': 'text',\n",
              "     'image_file': None}],\n",
              "   'created_at': 1710501710,\n",
              "   'file_ids': [],\n",
              "   'incomplete_at': None,\n",
              "   'incomplete_details': None,\n",
              "   'metadata': {},\n",
              "   'object': 'thread.message',\n",
              "   'role': 'assistant',\n",
              "   'run_id': '37beef92-e2be-11ee-a4d6-d6d69b2eb7ad',\n",
              "   'status': None,\n",
              "   'thread_id': '3761337a-e2be-11ee-988b-32dc6582fe5e'},\n",
              "  {'id': '37900e52-e2be-11ee-b4e3-d6d69b2eb7ad',\n",
              "   'assistant_id': 'TODO',\n",
              "   'completed_at': None,\n",
              "   'content': [{'text': {'annotations': [],\n",
              "      'value': 'I need to fill in a capital information form. Could you help me?'},\n",
              "     'type': 'text',\n",
              "     'image_file': None}],\n",
              "   'created_at': 1710501709,\n",
              "   'file_ids': [],\n",
              "   'incomplete_at': None,\n",
              "   'incomplete_details': None,\n",
              "   'metadata': {},\n",
              "   'object': 'thread.message',\n",
              "   'role': 'user',\n",
              "   'run_id': 'None',\n",
              "   'status': None,\n",
              "   'thread_id': '3761337a-e2be-11ee-988b-32dc6582fe5e'}],\n",
              " 'object': 'runs',\n",
              " 'first_id': '37dfa318-e2be-11ee-a4d6-d6d69b2eb7ad',\n",
              " 'last_id': '37900e52-e2be-11ee-b4e3-d6d69b2eb7ad',\n",
              " 'has_more': False}"
            ]
          },
          "metadata": {}
        }
      ]
    },
    {
      "cell_type": "markdown",
      "source": [
        "The Assistant's response is the following:"
      ],
      "metadata": {
        "id": "v_KEYWoDM2JM"
      }
    },
    {
      "cell_type": "code",
      "source": [
        "print(messages.data[0].content[0].text.value)"
      ],
      "metadata": {
        "colab": {
          "base_uri": "https://localhost:8080/"
        },
        "id": "WHdhzCyTJixG",
        "outputId": "dbac702f-b6c3-4728-9e4d-b144b14138b5"
      },
      "execution_count": null,
      "outputs": [
        {
          "output_type": "stream",
          "name": "stdout",
          "text": [
            "Of course, I'd be happy to help you fill out the capital information form. To get started, could you please send me the form so I can review it and gather the necessary information from you?\n"
          ]
        }
      ]
    },
    {
      "cell_type": "markdown",
      "source": [
        "Let's continue the conversation to ensure that the Thread is working properly and maintaining the session's context"
      ],
      "metadata": {
        "id": "q2o_ofT2NN4p"
      }
    },
    {
      "cell_type": "code",
      "source": [
        "message = client.beta.threads.messages.create(\n",
        "    thread_id=thread.id, role=\"user\", content=\"I don't have the form at the moment, I will send you later. Meanwhile could you explain to me what a cash reserve is and how should I measure a proper amount for my company?\"\n",
        ")\n",
        "\n",
        "\n",
        "run = client.beta.threads.runs.create(\n",
        "    thread_id=thread.id,\n",
        "    assistant_id=assistant.id,\n",
        ")\n",
        "\n",
        "\n",
        "wait_on_run(run, thread)\n",
        "\n",
        "# Ideally we woulwd wetrieve only the messages added after our last user message, but we don't have pagination enabled for this API endpoint yet\n",
        "messages = client.beta.threads.messages.list(\n",
        "    thread_id=thread.id,\n",
        "    order=\"asc\",\n",
        "    #after=message.id\n",
        ")\n",
        "show_json(messages)"
      ],
      "metadata": {
        "colab": {
          "base_uri": "https://localhost:8080/",
          "height": 1000
        },
        "id": "ecHqEMw7M648",
        "outputId": "fb9eafc0-61f5-4229-b8a3-d70f25b98b16"
      },
      "execution_count": null,
      "outputs": [
        {
          "output_type": "display_data",
          "data": {
            "text/plain": [
              "{'data': [{'id': '37900e52-e2be-11ee-b4e3-d6d69b2eb7ad',\n",
              "   'assistant_id': 'TODO',\n",
              "   'completed_at': None,\n",
              "   'content': [{'text': {'annotations': [],\n",
              "      'value': 'I need to fill in a capital information form. Could you help me?'},\n",
              "     'type': 'text',\n",
              "     'image_file': None}],\n",
              "   'created_at': 1710501709,\n",
              "   'file_ids': [],\n",
              "   'incomplete_at': None,\n",
              "   'incomplete_details': None,\n",
              "   'metadata': {},\n",
              "   'object': 'thread.message',\n",
              "   'role': 'user',\n",
              "   'run_id': 'None',\n",
              "   'status': None,\n",
              "   'thread_id': '3761337a-e2be-11ee-988b-32dc6582fe5e'},\n",
              "  {'id': '37dfa318-e2be-11ee-a4d6-d6d69b2eb7ad',\n",
              "   'assistant_id': '37429366-e2be-11ee-ba31-96cf47d504ae',\n",
              "   'completed_at': None,\n",
              "   'content': [{'text': {'annotations': [],\n",
              "      'value': \"Of course, I'd be happy to help you fill out the capital information form. To get started, could you please send me the form so I can review it and gather the necessary information from you?\"},\n",
              "     'type': 'text',\n",
              "     'image_file': None}],\n",
              "   'created_at': 1710501710,\n",
              "   'file_ids': [],\n",
              "   'incomplete_at': None,\n",
              "   'incomplete_details': None,\n",
              "   'metadata': {},\n",
              "   'object': 'thread.message',\n",
              "   'role': 'assistant',\n",
              "   'run_id': '37beef92-e2be-11ee-a4d6-d6d69b2eb7ad',\n",
              "   'status': None,\n",
              "   'thread_id': '3761337a-e2be-11ee-988b-32dc6582fe5e'},\n",
              "  {'id': '3977d614-e2be-11ee-9750-96cf47d504ae',\n",
              "   'assistant_id': 'TODO',\n",
              "   'completed_at': None,\n",
              "   'content': [{'text': {'annotations': [],\n",
              "      'value': \"I don't have the form at the moment, I will send you later. Meanwhile could you explain to me what a cash reserve is and how should I measure a proper amount for my company?\"},\n",
              "     'type': 'text',\n",
              "     'image_file': None}],\n",
              "   'created_at': 1710501713,\n",
              "   'file_ids': [],\n",
              "   'incomplete_at': None,\n",
              "   'incomplete_details': None,\n",
              "   'metadata': {},\n",
              "   'object': 'thread.message',\n",
              "   'role': 'user',\n",
              "   'run_id': 'None',\n",
              "   'status': None,\n",
              "   'thread_id': '3761337a-e2be-11ee-988b-32dc6582fe5e'},\n",
              "  {'id': '39c25bc6-e2be-11ee-a4d6-d6d69b2eb7ad',\n",
              "   'assistant_id': '37429366-e2be-11ee-ba31-96cf47d504ae',\n",
              "   'completed_at': None,\n",
              "   'content': [{'text': {'annotations': [],\n",
              "      'value': \"Certainly! A cash reserve is the amount of money that a company sets aside to cover unexpected expenses or to weather financial difficulties. It acts as a safety net to ensure that the business can continue operating smoothly even during challenging times.\\n\\nTo determine the appropriate amount for your company's cash reserve, you should consider factors such as your monthly expenses, revenue streams, and any potential risks or uncertainties in your industry. A common rule of thumb is to have enough cash reserves to cover at least three to six months of operating expenses.\\n\\nIt's important to regularly assess and adjust your cash reserve based on changes in your business environment to ensure that you always have an adequate financial buffer.\"},\n",
              "     'type': 'text',\n",
              "     'image_file': None}],\n",
              "   'created_at': 1710501713,\n",
              "   'file_ids': [],\n",
              "   'incomplete_at': None,\n",
              "   'incomplete_details': None,\n",
              "   'metadata': {},\n",
              "   'object': 'thread.message',\n",
              "   'role': 'assistant',\n",
              "   'run_id': '39a1e6c0-e2be-11ee-a4d6-d6d69b2eb7ad',\n",
              "   'status': None,\n",
              "   'thread_id': '3761337a-e2be-11ee-988b-32dc6582fe5e'}],\n",
              " 'object': 'runs',\n",
              " 'first_id': '37900e52-e2be-11ee-b4e3-d6d69b2eb7ad',\n",
              " 'last_id': '39c25bc6-e2be-11ee-a4d6-d6d69b2eb7ad',\n",
              " 'has_more': False}"
            ]
          },
          "metadata": {}
        }
      ]
    },
    {
      "cell_type": "code",
      "source": [
        "print(messages.data[-1])"
      ],
      "metadata": {
        "colab": {
          "base_uri": "https://localhost:8080/"
        },
        "id": "9hzh9ipVvqhq",
        "outputId": "5fd8a458-76cb-46f4-ad71-7afdce9fca62"
      },
      "execution_count": null,
      "outputs": [
        {
          "output_type": "stream",
          "name": "stdout",
          "text": [
            "Message(id='39c25bc6-e2be-11ee-a4d6-d6d69b2eb7ad', assistant_id='37429366-e2be-11ee-ba31-96cf47d504ae', completed_at=None, content=[TextContentBlock(text=Text(annotations=[], value=\"Certainly! A cash reserve is the amount of money that a company sets aside to cover unexpected expenses or to weather financial difficulties. It acts as a safety net to ensure that the business can continue operating smoothly even during challenging times.\\n\\nTo determine the appropriate amount for your company's cash reserve, you should consider factors such as your monthly expenses, revenue streams, and any potential risks or uncertainties in your industry. A common rule of thumb is to have enough cash reserves to cover at least three to six months of operating expenses.\\n\\nIt's important to regularly assess and adjust your cash reserve based on changes in your business environment to ensure that you always have an adequate financial buffer.\"), type='text', image_file=None)], created_at=1710501713, file_ids=[], incomplete_at=None, incomplete_details=None, metadata={}, object='thread.message', role='assistant', run_id='39a1e6c0-e2be-11ee-a4d6-d6d69b2eb7ad', status=None, thread_id='3761337a-e2be-11ee-988b-32dc6582fe5e')\n"
          ]
        }
      ]
    },
    {
      "cell_type": "code",
      "source": [
        "print(messages.data[-1].content[0].text.value)"
      ],
      "metadata": {
        "colab": {
          "base_uri": "https://localhost:8080/"
        },
        "id": "0zmZRnCnQHb7",
        "outputId": "5b210923-074b-46e0-be03-4b7fd61d24fd"
      },
      "execution_count": null,
      "outputs": [
        {
          "output_type": "stream",
          "name": "stdout",
          "text": [
            "Certainly! A cash reserve is the amount of money that a company sets aside to cover unexpected expenses or to weather financial difficulties. It acts as a safety net to ensure that the business can continue operating smoothly even during challenging times.\n",
            "\n",
            "To determine the appropriate amount for your company's cash reserve, you should consider factors such as your monthly expenses, revenue streams, and any potential risks or uncertainties in your industry. A common rule of thumb is to have enough cash reserves to cover at least three to six months of operating expenses.\n",
            "\n",
            "It's important to regularly assess and adjust your cash reserve based on changes in your business environment to ensure that you always have an adequate financial buffer.\n"
          ]
        }
      ]
    },
    {
      "cell_type": "code",
      "source": [
        "assistant.id"
      ],
      "metadata": {
        "colab": {
          "base_uri": "https://localhost:8080/",
          "height": 35
        },
        "id": "780xQi6vQI9V",
        "outputId": "c6e73dac-3ea9-4944-f8dd-8d70e821560f"
      },
      "execution_count": null,
      "outputs": [
        {
          "output_type": "execute_result",
          "data": {
            "text/plain": [
              "'37429366-e2be-11ee-ba31-96cf47d504ae'"
            ],
            "application/vnd.google.colaboratory.intrinsic+json": {
              "type": "string"
            }
          },
          "metadata": {},
          "execution_count": 178
        }
      ]
    },
    {
      "cell_type": "code",
      "source": [
        "FINANCE_ASSISTANT_ID = assistant.id\n",
        "\n",
        "def submit_message(assistant_id, thread, user_message):\n",
        "    client.beta.threads.messages.create(\n",
        "        thread_id=thread.id, role=\"user\", content=user_message\n",
        "    )\n",
        "    return client.beta.threads.runs.create(\n",
        "        thread_id=thread.id,\n",
        "        assistant_id=assistant_id,\n",
        "    )\n",
        "\n",
        "\n",
        "def get_response(thread):\n",
        "    return client.beta.threads.messages.list(thread_id=thread.id, order=\"asc\")"
      ],
      "metadata": {
        "id": "vzBejwkBbaCO"
      },
      "execution_count": null,
      "outputs": []
    },
    {
      "cell_type": "code",
      "source": [
        "def pretty_print(messages):\n",
        "    print(\"-- Messages\")\n",
        "    for m in messages.data:\n",
        "        print(f\"{m.role}: {m.content[0].text.value}\")\n",
        "    print()"
      ],
      "metadata": {
        "id": "9dP4ycPPgZ4x"
      },
      "execution_count": null,
      "outputs": []
    },
    {
      "cell_type": "code",
      "source": [
        "def create_thread_and_run(user_input):\n",
        "    thread = client.beta.threads.create()\n",
        "    run = submit_message(FINANCE_ASSISTANT_ID, thread, user_input)\n",
        "    return thread, run\n",
        "\n",
        "\n",
        "# I'm going to simulate concurrent user requests\n",
        "thread1, run1 = create_thread_and_run(\n",
        "    \"I need help understanding the financial laws of Togo, and the financial requirements for creating a startup.\"\n",
        ")\n",
        "thread2, run2 = create_thread_and_run(\"Could you help me fill out this form?\")\n",
        "thread3, run3 = create_thread_and_run(\"I don't understand most of the financial terms for a document I need to submit. What can I do?\")"
      ],
      "metadata": {
        "id": "5_dJmu0_basM"
      },
      "execution_count": null,
      "outputs": []
    },
    {
      "cell_type": "code",
      "source": [
        "\n",
        "run1 = wait_on_run(run1, thread1)\n",
        "pretty_print(get_response(thread1))\n",
        "\n",
        "run2 = wait_on_run(run2, thread2)\n",
        "pretty_print(get_response(thread2))\n",
        "\n",
        "\n",
        "run3 = wait_on_run(run3, thread3)\n",
        "pretty_print(get_response(thread3))\n",
        "\n",
        "\n",
        "run4 = submit_message(FINANCE_ASSISTANT_ID, thread3, \"Thank you!\")\n",
        "run4 = wait_on_run(run4, thread3)\n",
        "pretty_print(get_response(thread3))"
      ],
      "metadata": {
        "colab": {
          "base_uri": "https://localhost:8080/"
        },
        "id": "hWnt5N10nCAp",
        "outputId": "7ae4a45a-0fce-486b-d240-50b95057aa23"
      },
      "execution_count": null,
      "outputs": [
        {
          "output_type": "stream",
          "name": "stdout",
          "text": [
            "-- Messages\n",
            "user: I need help understanding the financial laws of Togo, and the financial requirements for creating a startup.\n",
            "assistant: I can definitely help you with that. To assist you better, I would need some specific information about your startup. For example, the nature of your business, expected revenue, planned expenses, and any other relevant financial details. That way, I can guide you through the financial requirements for creating a startup in Togo and help you ensure compliance with the financial laws.\n",
            "\n",
            "Do you have any financial documents or forms that you have already started filling out for your startup in Togo? It would be helpful to review those so I can provide more tailored assistance.\n",
            "\n",
            "-- Messages\n",
            "user: Could you help me fill out this form?\n",
            "assistant: Of course! I'd be happy to help. Please go ahead and send me the form so I can take a look at it.\n",
            "\n",
            "-- Messages\n",
            "user: I don't understand most of the financial terms for a document I need to submit. What can I do?\n",
            "assistant: That's completely understandable! I'm here to help you with any questions you have about the financial terms on the document. Feel free to ask me to explain any term you are unsure about, and I will do my best to clarify it for you. It's important to have a good understanding of your financial documents, so don't hesitate to ask for explanations.\n",
            "\n",
            "-- Messages\n",
            "user: I don't understand most of the financial terms for a document I need to submit. What can I do?\n",
            "assistant: That's completely understandable! I'm here to help you with any questions you have about the financial terms on the document. Feel free to ask me to explain any term you are unsure about, and I will do my best to clarify it for you. It's important to have a good understanding of your financial documents, so don't hesitate to ask for explanations.\n",
            "user: Thank you!\n",
            "assistant: You're welcome! Let's start by gathering some basic information for the financial form. Could you please provide me with details such as your company's name, address, tax identification number, and any other relevant information required for the form?\n",
            "\n"
          ]
        }
      ]
    },
    {
      "cell_type": "markdown",
      "source": [
        "Now that the concurrent Threads have successfully been tested, I'm going to update our Assistant with the tools needed to process code and documents"
      ],
      "metadata": {
        "id": "XQQS7J8wOWgc"
      }
    },
    {
      "cell_type": "code",
      "source": [
        "assistant = client.beta.assistants.update(\n",
        "    FINANCE_ASSISTANT_ID,\n",
        "    tools=[{\"type\": \"retrieval\"}],\n",
        ")\n",
        "print(assistant.tools)"
      ],
      "metadata": {
        "colab": {
          "base_uri": "https://localhost:8080/"
        },
        "id": "Yjj5vvjxOkZk",
        "outputId": "0930f3af-effa-4c83-d2c9-af2ff79afb7c"
      },
      "execution_count": null,
      "outputs": [
        {
          "output_type": "stream",
          "name": "stdout",
          "text": [
            "[RetrievalTool(type='retrieval', function=None)]\n"
          ]
        }
      ]
    },
    {
      "cell_type": "code",
      "source": [
        "form = client.files.create(\n",
        "    file=open(\n",
        "        \"/content/capital_requirements_2.csv\",\n",
        "        \"rb\",\n",
        "    ),\n",
        "    purpose=\"assistants\",\n",
        ")"
      ],
      "metadata": {
        "id": "XSp8BWJNO3dD"
      },
      "execution_count": null,
      "outputs": []
    },
    {
      "cell_type": "code",
      "source": [
        "assistant = client.beta.assistants.update(\n",
        "    FINANCE_ASSISTANT_ID,\n",
        "    file_ids=[form.id],\n",
        ")\n",
        "print(assistant.file_ids)"
      ],
      "metadata": {
        "colab": {
          "base_uri": "https://localhost:8080/"
        },
        "id": "dhjpR5bSPi7-",
        "outputId": "2847ddda-42c3-4724-9d96-6bc85aadfa70"
      },
      "execution_count": null,
      "outputs": [
        {
          "output_type": "stream",
          "name": "stdout",
          "text": [
            "['bbb90fee-e2cd-11ee-8854-32dc6582fe5e']\n"
          ]
        }
      ]
    },
    {
      "cell_type": "code",
      "source": [
        "thread, run = create_thread_and_run(\n",
        "    \"Can you help me understand the fields of this CSV form?.\"\n",
        ")\n",
        "run = wait_on_run(run, thread)\n",
        "pretty_print(get_response(thread))"
      ],
      "metadata": {
        "colab": {
          "base_uri": "https://localhost:8080/"
        },
        "id": "yMU9tRP2P6g6",
        "outputId": "331c1df3-c080-43fc-cce0-7c7966a1ecc0"
      },
      "execution_count": null,
      "outputs": [
        {
          "output_type": "stream",
          "name": "stdout",
          "text": [
            "-- Messages\n",
            "user: Can you help me understand the fields of this CSV form?.\n",
            "assistant: Of course! The form you provided contains fields related to the capital requirements and sources of financing for a business. Here is a breakdown of the fields mentioned in the form:\n",
            "\n",
            "1. **Capital Requirements**:\n",
            "   - **Investments**:\n",
            "     - Immaterial goods\n",
            "     - Registration costs\n",
            "     - Machinery and equipment (IT)\n",
            "     - Production equipment acquirements\n",
            "     - Assets, in kind\n",
            "     - Vehicle\n",
            "     - Furniture\n",
            "     - Phone/fax/Internet including installation\n",
            "     - Installation of machinery and equipment\n",
            "     - Renovation of premises\n",
            "     - Office supplies\n",
            "     - Other devices\n",
            "     - Initial advertising/brochures\n",
            "     - Rent and rent deposit\n",
            "\n",
            "2. **Sources of Financing**:\n",
            "   - **Capital Sources**:\n",
            "     - Share capital\n",
            "     - Personal funds invested\n",
            "     - Personal production tools and equipment\n",
            "     - Equity loan (Shareholder loan, Bank loan, Finnvera loan, Supplier loan)\n",
            "   - **Other Financial Assets**:\n",
            "     - Equipment rental/leasing costs\n",
            "     - Personnel costs (Entrepreneur's personal living costs)\n",
            "     - Sales and initial inventory\n",
            "     - Cash reserve\n",
            "   - **Other sources of financing** and **Reserve for cost overdraft**\n",
            "\n",
            "These fields outline the various expenses (investments) and funding sources (capital sources) for the business. If you need further explanation on any of these fields or terms, feel free to ask!\n",
            "\n"
          ]
        }
      ]
    },
    {
      "cell_type": "code",
      "source": [
        "new_message=\"Thank you, that's very helpful, help me fill out this form, going one by one with these fields, explaining each term and letting me know if the value I submit strays too far from what a reasonable value could be?\"\n",
        "new_run = submit_message(FINANCE_ASSISTANT_ID, thread, new_message)\n",
        "new_run = wait_on_run(new_run, thread)\n",
        "pretty_print(get_response(thread))"
      ],
      "metadata": {
        "colab": {
          "base_uri": "https://localhost:8080/"
        },
        "id": "GDT-QjJmQGWB",
        "outputId": "9b943e21-5007-4eca-e553-2d4961eaa837"
      },
      "execution_count": null,
      "outputs": [
        {
          "output_type": "stream",
          "name": "stdout",
          "text": [
            "-- Messages\n",
            "user: Can you help me understand the fields of this CSV form?.\n",
            "assistant: Of course! The form you provided contains fields related to the capital requirements and sources of financing for a business. Here is a breakdown of the fields mentioned in the form:\n",
            "\n",
            "1. **Capital Requirements**:\n",
            "   - **Investments**:\n",
            "     - Immaterial goods\n",
            "     - Registration costs\n",
            "     - Machinery and equipment (IT)\n",
            "     - Production equipment acquirements\n",
            "     - Assets, in kind\n",
            "     - Vehicle\n",
            "     - Furniture\n",
            "     - Phone/fax/Internet including installation\n",
            "     - Installation of machinery and equipment\n",
            "     - Renovation of premises\n",
            "     - Office supplies\n",
            "     - Other devices\n",
            "     - Initial advertising/brochures\n",
            "     - Rent and rent deposit\n",
            "\n",
            "2. **Sources of Financing**:\n",
            "   - **Capital Sources**:\n",
            "     - Share capital\n",
            "     - Personal funds invested\n",
            "     - Personal production tools and equipment\n",
            "     - Equity loan (Shareholder loan, Bank loan, Finnvera loan, Supplier loan)\n",
            "   - **Other Financial Assets**:\n",
            "     - Equipment rental/leasing costs\n",
            "     - Personnel costs (Entrepreneur's personal living costs)\n",
            "     - Sales and initial inventory\n",
            "     - Cash reserve\n",
            "   - **Other sources of financing** and **Reserve for cost overdraft**\n",
            "\n",
            "These fields outline the various expenses (investments) and funding sources (capital sources) for the business. If you need further explanation on any of these fields or terms, feel free to ask!\n",
            "user: Thank you, that's very helpful, help me fill out this form, going one by one with these fields, explaining each term and letting me know if the value I submit strays too far from what a reasonable value could be?\n",
            "assistant: Let's start by filling out the form step by step, ensuring that the values align with common financial practices. \n",
            "\n",
            "1. **Capital Requirements**:\n",
            "   - **Investments**:\n",
            "     - Immaterial goods: $20,000 (This could refer to intangible assets like copyrights or trademarks.)\n",
            "     - Registration costs: $0 (These are fees associated with registering the business legally.)\n",
            "     - Machinery and equipment (IT): $15,000 (This includes technology equipment for the business.)\n",
            "     - Production equipment acquisitions: $4,000 (Costs related to acquiring equipment for production.)\n",
            "     - Assets, in-kind: $12,000 (These could be non-monetary assets contributed to the business.)\n",
            "     - Vehicle: $0 (If the business doesn't require a vehicle, this value makes sense.)\n",
            "     - Furniture: $24,000 (Costs related to purchasing furniture for the business.)\n",
            "     - Phone/fax/Internet including installation: $0 (Expenses for setting up communication services.)\n",
            "     - Installation of machinery and equipment: $0 (Costs associated with setting up machinery.)\n",
            "     - Renovation of premises: $0 (Renovation expenses for the business premises.)\n",
            "     - Office supplies: $3,500 (Costs for essential office supplies.)\n",
            "     - Other devices: $11,300 (Could be related to other necessary devices for the business.)\n",
            "     - Initial advertising/brochures: $0 (Costs for initial marketing materials.)\n",
            "     - Rent and rent deposit: $0 (Expenses related to renting space.)\n",
            "   - **Total Capital Requirements**: $88,800\n",
            "\n",
            "2. **Sources of Financing**:\n",
            "   - **Capital Sources**:\n",
            "     - Share capital: $20,000 (Funds contributed by the shareholders.)\n",
            "     - Personal funds invested: $16,000 (Personal investments by the entrepreneur.)\n",
            "     - Personal production tools and equipment: $11,525 (Value of tools and equipment contributed.)\n",
            "     - Equity loan:\n",
            "       - Shareholder loan: $25,000 (Loan from a shareholder.)\n",
            "       - Bank loan: $40,000 (Loan from a bank.)\n",
            "       - Finnvera loan: $40,000 (Loan from Finnvera, a Finnish financing company.)\n",
            "     - **Total Equity and Loan Capital Sources**: $152,525\n",
            "   - **Other Financial Assets**:\n",
            "     - Equipment rental/leasing costs: $0 (Costs associated with renting or leasing equipment.)\n",
            "     - Personnel costs:\n",
            "       - Personnel costs: $32,000 (Salaries for employees.)\n",
            "       - Entrepreneur's personal living costs: $11,800 (Entrepreneur's living expenses covered by the business.)\n",
            "     - Sales and initial inventory: $0 (Expenses related to initial inventory.)\n",
            "     - Cash reserve: $10,000 (Reserved funds for unforeseen expenses.)\n",
            "   - **Total Sources of Financing (Capital and Loans)**: $175,325\n",
            "\n",
            "Would you like to adjust any values or need further clarification on any terms before proceeding?\n",
            "\n"
          ]
        }
      ]
    }
  ]
}